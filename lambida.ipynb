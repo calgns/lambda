{
 "cells": [
  {
   "cell_type": "markdown",
   "metadata": {},
   "source": [
    "- ### lambda e def"
   ]
  },
  {
   "cell_type": "code",
   "execution_count": 16,
   "metadata": {},
   "outputs": [
    {
     "name": "stdout",
     "output_type": "stream",
     "text": [
      "29\n"
     ]
    },
    {
     "data": {
      "text/plain": [
       "<function __main__.soma(a, b)>"
      ]
     },
     "execution_count": 16,
     "metadata": {},
     "output_type": "execute_result"
    }
   ],
   "source": [
    "# exemplo:\n",
    "# usando a função def:\n",
    "\n",
    "def soma(a,b):\n",
    "     print(a + b)\n",
    "\n",
    "soma(14,15)\n",
    "soma"
   ]
  },
  {
   "cell_type": "code",
   "execution_count": 19,
   "metadata": {},
   "outputs": [
    {
     "data": {
      "text/plain": [
       "19"
      ]
     },
     "execution_count": 19,
     "metadata": {},
     "output_type": "execute_result"
    }
   ],
   "source": [
    "soma2 = lambda x,y:x+y\n",
    "soma2(9,10)"
   ]
  },
  {
   "cell_type": "code",
   "execution_count": 20,
   "metadata": {},
   "outputs": [
    {
     "data": {
      "text/plain": [
       "<function __main__.<lambda>(x, y)>"
      ]
     },
     "execution_count": 20,
     "metadata": {},
     "output_type": "execute_result"
    }
   ],
   "source": [
    "soma2"
   ]
  },
  {
   "cell_type": "code",
   "execution_count": 30,
   "metadata": {},
   "outputs": [
    {
     "data": {
      "text/plain": [
       "36"
      ]
     },
     "execution_count": 30,
     "metadata": {},
     "output_type": "execute_result"
    }
   ],
   "source": [
    "# multiplica.\n",
    "def mult(a,b):\n",
    "    vezes = a * b\n",
    "    return vezes\n",
    "\n",
    "mult(6,6)"
   ]
  },
  {
   "cell_type": "code",
   "execution_count": 27,
   "metadata": {},
   "outputs": [
    {
     "data": {
      "text/plain": [
       "<function __main__.mult(a, b)>"
      ]
     },
     "execution_count": 27,
     "metadata": {},
     "output_type": "execute_result"
    }
   ],
   "source": [
    "mult"
   ]
  },
  {
   "cell_type": "code",
   "execution_count": 31,
   "metadata": {},
   "outputs": [
    {
     "data": {
      "text/plain": [
       "12"
      ]
     },
     "execution_count": 31,
     "metadata": {},
     "output_type": "execute_result"
    }
   ],
   "source": [
    "mult2 = lambda x,y: x * y\n",
    "mult2(2,6)"
   ]
  },
  {
   "cell_type": "code",
   "execution_count": 33,
   "metadata": {},
   "outputs": [
    {
     "data": {
      "text/plain": [
       "<function __main__.<lambda>(x, y)>"
      ]
     },
     "execution_count": 33,
     "metadata": {},
     "output_type": "execute_result"
    }
   ],
   "source": [
    "mult2"
   ]
  },
  {
   "cell_type": "code",
   "execution_count": 34,
   "metadata": {},
   "outputs": [
    {
     "data": {
      "text/plain": [
       "2.0"
      ]
     },
     "execution_count": 34,
     "metadata": {},
     "output_type": "execute_result"
    }
   ],
   "source": [
    "divisão = lambda d,r: d/r\n",
    "divisão(10,5)"
   ]
  },
  {
   "cell_type": "code",
   "execution_count": 35,
   "metadata": {},
   "outputs": [
    {
     "data": {
      "text/plain": [
       "<function __main__.<lambda>(d, r)>"
      ]
     },
     "execution_count": 35,
     "metadata": {},
     "output_type": "execute_result"
    }
   ],
   "source": [
    "divisão"
   ]
  },
  {
   "cell_type": "markdown",
   "metadata": {},
   "source": [
    "- ### for e lambda\n",
    "- usado(for): append\n",
    "- usado(lambda): list(),map()"
   ]
  },
  {
   "cell_type": "code",
   "execution_count": 17,
   "metadata": {},
   "outputs": [
    {
     "name": "stdout",
     "output_type": "stream",
     "text": [
      "USANDO FOR\n",
      "[63.14999999999998, 266.15, 268.15, 273.15, 285.15, 293.15, 298.15, 305.15, 308.15, 313.15]\n"
     ]
    }
   ],
   "source": [
    "# formula celcius para kelvin = °C + 273,15; virse-versa = K − 273,15;\n",
    "# agora lista/for e lambda; p = para\n",
    "#  celsius para kelvin usando for\n",
    "celsius = [-210, -7, -5, 0, 12, 20, 25, 32, 35, 40]\n",
    "kelvin = [2,100,200,400,15,45]\n",
    "pkelvin = []\n",
    "print(\"usando for\".upper())\n",
    "for i in celsius:\n",
    "    pkelvin.append(i + 273.15)\n",
    "print(pkelvin)\n"
   ]
  },
  {
   "cell_type": "code",
   "execution_count": 18,
   "metadata": {},
   "outputs": [
    {
     "name": "stdout",
     "output_type": "stream",
     "text": [
      "[63.14999999999998, 266.15, 268.15, 273.15, 285.15, 293.15, 298.15, 305.15, 308.15, 313.15]\n",
      "[-271.15, -173.14999999999998, -73.14999999999998, 126.85000000000002, -258.15, -228.14999999999998]\n"
     ]
    }
   ],
   "source": [
    "# usando a função lambda e map() \n",
    "# dentro de list() como feito acima\n",
    "#  com a map voce coloca a função aplicada e depois os dados que vão ser usados ;'_';\n",
    "pkelvin2 = list(map(lambda x:x+273.15, celsius))\n",
    "print(pkelvin2)\n",
    "# para caso voce queira calcular de kelvin para celsius sera -273.15\n",
    "pcelsius = list(map(lambda x:x-273.15, kelvin))\n",
    "print(pcelsius)"
   ]
  },
  {
   "cell_type": "code",
   "execution_count": 30,
   "metadata": {},
   "outputs": [
    {
     "name": "stdout",
     "output_type": "stream",
     "text": [
      "[25.555555555555557, 37.77777777777778, 93.33333333333333, -1.6666666666666667, -16.666666666666668, 9.444444444444445, -23.333333333333332]\n"
     ]
    }
   ],
   "source": [
    "# e agora fahrenheit para celsius\n",
    "# formaula (°F − 32) × 5/9; o contrario é (°C × (9/5)) + 32 \n",
    "# usando for \n",
    "F = [78,100,200,29,2,49,-10]\n",
    "fahrenheitC = []\n",
    "for i in F:\n",
    "    fahrenheitC.append((i - 32) * 5/9)\n",
    "print(fahrenheitC)"
   ]
  },
  {
   "cell_type": "code",
   "execution_count": 40,
   "metadata": {},
   "outputs": [
    {
     "name": "stdout",
     "output_type": "stream",
     "text": [
      "[23, 11, 12, 16, 17, 19, 25, 27, 30, 32, 40, 50]\n",
      "[73.4, 51.8, 53.6, 60.8, 62.6, 66.2, 77.0, 80.6, 86.0, 89.6, 104.0, 122.0]\n"
     ]
    }
   ],
   "source": [
    "# usando lambda\n",
    "C = [23,11,12,16,17,19,25,27,30,32,40,50]\n",
    "\n",
    "celsiusF = list(map(lambda x:(x * (9/5))+32,C))\n",
    "print(C)\n",
    "print(celsiusF)\n"
   ]
  },
  {
   "cell_type": "code",
   "execution_count": 42,
   "metadata": {},
   "outputs": [
    {
     "name": "stdout",
     "output_type": "stream",
     "text": [
      "[-459.66999999999996, -240.07, -438.07, -405.66999999999996, 80.33000000000004, -423.66999999999996, -99.66999999999996, 260.33000000000004]\n"
     ]
    }
   ],
   "source": [
    "# kelvin  para fahrenheit: (44 K − 273,15) × 9/5 + 32;\n",
    "# o contrario: (44 °F − 32) × 5/9 + 273,15 \n",
    "K = [0, 122,12,30,300,20,200,400]\n",
    "KelvinF = []\n",
    "for i in K:\n",
    "    KelvinF.append((i-273.15) * (9/5) + 32)\n",
    "print(KelvinF)"
   ]
  },
  {
   "cell_type": "code",
   "execution_count": 153,
   "metadata": {},
   "outputs": [
    {
     "data": {
      "text/plain": [
       "[57.55555555555556,\n",
       " 69.77777777777777,\n",
       " 125.33333333333334,\n",
       " 30.333333333333332,\n",
       " 15.333333333333332,\n",
       " 41.44444444444444,\n",
       " 8.666666666666664]"
      ]
     },
     "execution_count": 153,
     "metadata": {},
     "output_type": "execute_result"
    }
   ],
   "source": [
    "# terminado\n",
    "fahrenheitK = list(map(lambda x: (x - 32)*(5/9)+32, F))\n",
    "fahrenheitK"
   ]
  },
  {
   "cell_type": "code",
   "execution_count": 137,
   "metadata": {},
   "outputs": [
    {
     "name": "stdout",
     "output_type": "stream",
     "text": [
      "[58, 70, 125, 30, 15, 41, 9]\n"
     ]
    }
   ],
   "source": [
    "# uma coisa dahora que eu aprendi sobre arredondar\n",
    "# usando lambda\n",
    "fahrenheitKar = list(map(lambda x: round((x - 32)*(5/9)+32), F))\n",
    "print(fahrenheitKar)"
   ]
  },
  {
   "cell_type": "code",
   "execution_count": 138,
   "metadata": {},
   "outputs": [
    {
     "name": "stdout",
     "output_type": "stream",
     "text": [
      "58kº 70kº 125kº 30kº 15kº 41kº 9kº "
     ]
    }
   ],
   "source": [
    "# usando for:\n",
    "# caso goste de numros inteiros\n",
    "for i in fahrenheitK:\n",
    "    print(round(i),end='kº ')"
   ]
  },
  {
   "cell_type": "code",
   "execution_count": 151,
   "metadata": {},
   "outputs": [
    {
     "name": "stdout",
     "output_type": "stream",
     "text": [
      "[ -460Fº, -240Fº, -438Fº, -406Fº, 80Fº, -424Fº, -100Fº, 260Fº, ]\n"
     ]
    }
   ],
   "source": [
    "# agora você pode arredondar listas. isso é dahora\n",
    "print(\"[\",end=\" \")\n",
    "for i in KelvinF:\n",
    "    print(round(i),end=\"Fº, \")\n",
    "print(\"]\")"
   ]
  },
  {
   "cell_type": "markdown",
   "metadata": {},
   "source": [
    "### Lambda\n",
    "- reduce, filter e map"
   ]
  },
  {
   "cell_type": "code",
   "execution_count": 154,
   "metadata": {},
   "outputs": [
    {
     "data": {
      "text/plain": [
       "[1, 2, 3, 5]"
      ]
     },
     "execution_count": 154,
     "metadata": {},
     "output_type": "execute_result"
    }
   ],
   "source": [
    "lista = [1,2,3,3.5,4.5,4.9,5,6.9]\n",
    "# filtrando a lista com base no type()\n",
    "lista2 = list(filter(lambda x: type(x)==int,lista))\n",
    "lista2"
   ]
  },
  {
   "cell_type": "code",
   "execution_count": 161,
   "metadata": {},
   "outputs": [
    {
     "data": {
      "text/plain": [
       "[1, 4, 9, 25]"
      ]
     },
     "execution_count": 161,
     "metadata": {},
     "output_type": "execute_result"
    }
   ],
   "source": [
    "# calculado os valores inteiros ao quadrado\n",
    "lista_ao_Q = list(map(lambda x: x**2,lista2))\n",
    "lista_ao_Q"
   ]
  },
  {
   "cell_type": "code",
   "execution_count": 168,
   "metadata": {},
   "outputs": [
    {
     "data": {
      "text/plain": [
       "11"
      ]
     },
     "execution_count": 168,
     "metadata": {},
     "output_type": "execute_result"
    }
   ],
   "source": [
    "from functools import reduce\n",
    "reduce(lambda x,y: x+y,lista2)"
   ]
  }
 ],
 "metadata": {
  "kernelspec": {
   "display_name": "Python 3",
   "language": "python",
   "name": "python3"
  },
  "language_info": {
   "codemirror_mode": {
    "name": "ipython",
    "version": 3
   },
   "file_extension": ".py",
   "mimetype": "text/x-python",
   "name": "python",
   "nbconvert_exporter": "python",
   "pygments_lexer": "ipython3",
   "version": "3.8.5"
  }
 },
 "nbformat": 4,
 "nbformat_minor": 4
}
